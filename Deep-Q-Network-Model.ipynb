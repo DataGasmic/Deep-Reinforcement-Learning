{
 "cells": [
  {
   "cell_type": "markdown",
   "metadata": {},
   "source": [
    "# Importing Required Libraries"
   ]
  },
  {
   "cell_type": "code",
   "execution_count": 2,
   "metadata": {},
   "outputs": [],
   "source": [
    "import gym\n",
    "import math\n",
    "import random\n",
    "import numpy as np\n",
    "import matplotlib\n",
    "import matplotlib.pyplot as plt\n",
    "from collections import namedtuple\n",
    "from itertools import count\n",
    "from PIL import Image\n",
    "import torch\n",
    "import torch.nn as nn\n",
    "import torch.optim as optim\n",
    "import torch.nn.functional as F\n",
    "import torchvision.transforms as T\n",
    "\n",
    "%matplotlib inline"
   ]
  },
  {
   "cell_type": "markdown",
   "metadata": {},
   "source": [
    "## Setup Display - Importing Ipythons display module to aid us in plotting images to out notebook"
   ]
  },
  {
   "cell_type": "code",
   "execution_count": 3,
   "metadata": {},
   "outputs": [],
   "source": [
    "is_ipython = 'inline' in matplotlib.get_backend()\n",
    "if is_ipython: from IPython import display"
   ]
  },
  {
   "cell_type": "markdown",
   "metadata": {},
   "source": [
    "# Creating Classes and Functions more towards the Object Oriented Programming Way first"
   ]
  },
  {
   "cell_type": "code",
   "execution_count": 4,
   "metadata": {},
   "outputs": [],
   "source": [
    "class DQN(nn.Module): # within the nn package there is a class called Module - the base class for all Neural Network Modules\n",
    "                      # So our network in all of it's layers will extend the nn.Module class\n",
    "    \n",
    "    def __init__(self , img_height , img_width):\n",
    "        super().__init__()\n",
    "        \n",
    "        self.fc1 = nn.Linear(in_features= img_height*img_width*3 , out_features = 24)\n",
    "        self.fc2 = nn.Linear(in_features = 24, out_features = 32)\n",
    "        self.out = nn.Linear(in_features = 32 , out_features=2)\n",
    "        \n",
    "        \n",
    "    def forward(self,t): # this function will execute a forward pass to the network ,\n",
    "                         # all pytorch networks require an implementation of forward\n",
    "        \n",
    "        t = t.flatten(start_dim = 1)\n",
    "        t = F.relu(self.fc1(t))\n",
    "        t = F.relu(self.fc2(t))\n",
    "        t = self.out(t)\n",
    "        \n",
    "        return t     "
   ]
  },
  {
   "cell_type": "code",
   "execution_count": 5,
   "metadata": {},
   "outputs": [],
   "source": [
    "# We define our DQN as a class that extends nn.Module\n",
    "# Our DQN will receive inputs as the screenshot images of the Cart Pole Game , so we need height and width\n",
    "# 2 fully connected layers and an output layer - PyTorch refers to fully connected layers as Linear\n",
    "# height*weights*3 corresponds to the three colour channels from our RGB inputs recevied by Network\n",
    "# out_features- Right or Left - only two possible actions\n",
    "\n",
    "# Note that this network is pretty arbitrary and also very basic, doesn't even contain any convolutional layers\n",
    "# We first start with a very basic model amnd then make changes to improve the model based on performance and tuning\n",
    "\n",
    "# For any particular image tensor passed to the network, t will first need to be flattened to be passed to the fully connected layer\n",
    "# Finally this will be passed to the Fully Connected layers and consequent layers ahead where we finally have the output from Output layer\n",
    "\n",
    "\n",
    "# SO we have the network , moving on to EXPERIENCES"
   ]
  },
  {
   "cell_type": "code",
   "execution_count": null,
   "metadata": {},
   "outputs": [],
   "source": []
  },
  {
   "cell_type": "code",
   "execution_count": 6,
   "metadata": {},
   "outputs": [],
   "source": [
    "# Experiences from Replay memory is what we use to rain our network\n",
    "# We create a class called experience ,\n",
    "# this class will be used to create instances of experience objects that will get stored in and sampled from replay memory later\n",
    "# namedtuple is a python function for creating tuples with named fields\n",
    "\n",
    "Experience = namedtuple('Experience' , ('state','action','reward','next_state')) \n",
    "\n",
    "# Here, namedtuple returns a new tuple subclass named \"Experience\"\n",
    "# this will be used to create tuple like objects that have the above mentioned fields"
   ]
  },
  {
   "cell_type": "code",
   "execution_count": 7,
   "metadata": {},
   "outputs": [],
   "source": [
    "e = Experience(2,3,1,4)"
   ]
  },
  {
   "cell_type": "code",
   "execution_count": 8,
   "metadata": {},
   "outputs": [
    {
     "data": {
      "text/plain": [
       "(2, 3)"
      ]
     },
     "execution_count": 8,
     "metadata": {},
     "output_type": "execute_result"
    }
   ],
   "source": [
    "e.state , e.action # and so on"
   ]
  },
  {
   "cell_type": "code",
   "execution_count": 9,
   "metadata": {},
   "outputs": [
    {
     "data": {
      "text/plain": [
       "Experience(state=2, action=3, reward=1, next_state=4)"
      ]
     },
     "execution_count": 9,
     "metadata": {},
     "output_type": "execute_result"
    }
   ],
   "source": [
    "e"
   ]
  },
  {
   "cell_type": "markdown",
   "metadata": {},
   "source": [
    "# Defining the Replay Memory Class"
   ]
  },
  {
   "cell_type": "code",
   "execution_count": 10,
   "metadata": {},
   "outputs": [],
   "source": [
    "# it only needs a single parameter which is the capacity\n",
    "\n",
    "class ReplayMemory():\n",
    "    \n",
    "    def __init__(self , capacity):\n",
    "        \n",
    "        self.capacity = capacity\n",
    "        self.memory = [] # Stored experiences in Memory - Replay memory\n",
    "        self.push_count = 0 # Store how many experiences saved\n",
    "        \n",
    "        \n",
    "    def push(self , experience):\n",
    "        if len(self.memory) < self.capacity:\n",
    "            self.memory.append(experience)\n",
    "            \n",
    "        else:\n",
    "            self.memory[self.push_count % self.capacity] = experience # Adding experiences to the front of the memory , FIFO\n",
    "            \n",
    "        self.push_count += 1\n",
    "        \n",
    "    def sample(self , batch_size):\n",
    "        \n",
    "        return random.sample(self.memory , batch_size)\n",
    "     \n",
    "    def can_provide_sample(self ,batch_size): # check before we sample ,if we can\n",
    "        \n",
    "        return len(self.memory) >= batch_size\n",
    "    \n",
    "    \n"
   ]
  },
  {
   "cell_type": "markdown",
   "metadata": {},
   "source": [
    "# Exploration - Exploitation Tradeoff Strategy - Epsilon greedy Implementation"
   ]
  },
  {
   "cell_type": "code",
   "execution_count": 11,
   "metadata": {},
   "outputs": [],
   "source": [
    "class EpsilonGreedyStrategy():\n",
    "    \n",
    "    def __init__(self , start , end , decay):\n",
    "        \n",
    "        self.start = start\n",
    "        self.end = end\n",
    "        self.decay = decay\n",
    "        \n",
    "    def get_exploration_rate(self , current_episode_or_step):\n",
    "        \n",
    "        return self.end + (self.start - self.end)*math.exp(-1*current_episode_or_step*self.decay)"
   ]
  },
  {
   "cell_type": "markdown",
   "metadata": {},
   "source": [
    "# Building the Agent "
   ]
  },
  {
   "cell_type": "code",
   "execution_count": 12,
   "metadata": {},
   "outputs": [],
   "source": [
    "class Agent():\n",
    "    \n",
    "    def __init__(self , strategy , num_actions , device):    # num_actions corresponds to how many possilbe actions exists\n",
    "        self.current_step = 0\n",
    "        self.strategy = strategy\n",
    "        self.num_actions = num_actions\n",
    "        self.device = device\n",
    "        \n",
    "    def select_actions(self , state , policy_net):\n",
    "        \n",
    "        rate = strategy.get_exploration_rate(self.current_step)\n",
    "        self.current_step+=1\n",
    "        \n",
    "        if rate > random.random():\n",
    "            return torch.tensor([random.randrange(self.num_actions)]).to(self.device) # Explore\n",
    "        else:\n",
    "            with torch.no_grad(): # Just doing this so we turn off gradient tracking, currently not training, just using\n",
    "                return policy_net(state).argmax(dim = 1).to(device) # Exploit"
   ]
  },
  {
   "cell_type": "markdown",
   "metadata": {},
   "source": [
    "# Cart-Pole Environment Manager"
   ]
  },
  {
   "cell_type": "code",
   "execution_count": 20,
   "metadata": {},
   "outputs": [],
   "source": [
    "class CartPoleEnvManager():\n",
    "    \n",
    "    def __init__(self , device):\n",
    "        \n",
    "        self.device = device\n",
    "        self.env = gym.make('CartPole-v0').unwrapped\n",
    "        self.env.reset() # to get initial observation\n",
    "        self.current_screen = None # current Screen will drive the current screen of the environement at any given time\n",
    "        # When set to None , this means we have started an episode and haven't rendered the screen of any observation\n",
    "        self.done = False\n",
    "        \n",
    "        \n",
    "    def reset(self):\n",
    "        self.env.reset()\n",
    "        self.current_screen= None # When at an end of an episode, after resetting\n",
    "    \n",
    "    def close(self):\n",
    "        self.env.close()\n",
    "        \n",
    "    def render(self , mode = 'human'):\n",
    "        return self.env.render(mode)\n",
    "    \n",
    "    def num_actions_available(self): # Possible 2 actions available\n",
    "        return self.env.action_space.n\n",
    "    \n",
    "    def take_action(self , action):\n",
    "        \n",
    "        # Taking the action and getting the reward\n",
    "        #print(action)\n",
    "        \n",
    "        new_state,reward,self.done ,info = self.env.step(action.item()) \n",
    "        \n",
    "        # .item() beacuse the action passed from main program will be a tensor , item() returns value\n",
    "        \n",
    "        return torch.tensor([reward] , device = self.device) # The reward is then returned wrapped in this pytorch tensor\n",
    "        # Done so to match the format needed in our main program , tensor coming in and tensor going out\n",
    "    \n",
    "    def just_starting(self): # True if current screen is none , basically tells if new episode has started or ended\n",
    "        return self.current_screen is None\n",
    "    \n",
    "    def get_state(self): # Return the current state of the environment in the form of a processed image of the screen\n",
    "        # In this case the input will be screenshot images, \n",
    "        # also single state in our environment will be the difference between the current screen and the previous screen\n",
    "        # This allows the agent to take the velocity of the pole into consideration from one image\n",
    "        \n",
    "        if self.just_starting() or self.done: # starting the epsiode or ending it\n",
    "            self.current_screen = self.get_processed_screen() # returns the processed screen from the environment\n",
    "            black_screen = torch.zeros_like(self.current_screen) # 0 is black,creating a black screen similar to current\n",
    "            return black_screen\n",
    "        else: # somewhere in the middle of the episode\n",
    "            s1 = self.current_screen\n",
    "            s2 = self.get_processed_screen()\n",
    "            self.current_screen = s2\n",
    "            return s2-s1\n",
    "    \n",
    "    def get_screen_height(self): # returns screens height and weight\n",
    "        screen = self.get_processed_screen()\n",
    "        return screen.shape[2]\n",
    "    \n",
    "    def get_screen_width(self):\n",
    "        screen = self.get_processed_screen()\n",
    "        return screen.shape[3]\n",
    "    \n",
    "    def get_processed_screen(self):\n",
    "        screen = self.render('rgb_array').transpose((2,0,1)) # Renders the rgb_array of the screen and\n",
    "        #then transposes this array into the order of channels by height by width which is what our PyTorch DQN will expect\n",
    "        screen = self.crop_screen(screen)\n",
    "        return self.transform_screen_data(screen)\n",
    "    \n",
    "    def crop_screen(self , screen):\n",
    "        screen_height = screen.shape[1]\n",
    "        \n",
    "        # Stripping of Top and Bottom \n",
    "        top = int(screen_height*0.4) # Thus stripped top 40% and bottom 20%\n",
    "        bottom = int(screen_height*0.8)\n",
    "        screen = screen[:,top:bottom , :]\n",
    "        return screen\n",
    "    \n",
    "    def transform_screen_data(self , screen):\n",
    "        # Convert to float, rescale , convert to Tensor\n",
    "        screen = np.ascontiguousarray(screen , dtype = np.float32)/255 # All values get stored sequentially in memory\n",
    "        screen = torch.from_numpy(screen) # also converting individual pixel values into type float32 and then rescaling\n",
    "        # by dividing with 255 , common process during NN image preocessing\n",
    "        # finally converting the input screen from a numpy array to a pytorch Tensor\n",
    "        \n",
    "        # Use Torchvision package to compose image transforms\n",
    "        resize = T.Compose([T.ToPILImage() , T.Resize((40,90)) , T.ToTensor()])\n",
    "        # Chain togther several image transformation - Compose Resize\n",
    "        # First tensor converted to a PILImage and then resized to a 40 by 90 image\n",
    "        # PILImage then transformed to a Tensor\n",
    "        \n",
    "        ## We pass our screen from above to resize and then add an extra dimension to tensor by calling unsqueeze\n",
    "        # Added dimension represents a batch dimension since processed image passed to DQN in batches\n",
    "        \n",
    "        return resize(screen).unsqueeze(0).to(self.device) # Add a batch        "
   ]
  },
  {
   "cell_type": "code",
   "execution_count": null,
   "metadata": {},
   "outputs": [],
   "source": []
  },
  {
   "cell_type": "markdown",
   "metadata": {},
   "source": [
    "# Example of a Non-Processed Screen"
   ]
  },
  {
   "cell_type": "code",
   "execution_count": 14,
   "metadata": {},
   "outputs": [
    {
     "data": {
      "image/png": "[encoded data removed]",
      "text/plain": [
       "<Figure size 432x288 with 1 Axes>"
      ]
     },
     "metadata": {
      "needs_background": "light"
     },
     "output_type": "display_data"
    }
   ],
   "source": [
    "device = torch.device(\"cuda\" if torch.cuda.is_available() else 'cpu')\n",
    "em = CartPoleEnvManager(device)\n",
    "em.reset()\n",
    "screen = em.render('rgb_array')\n",
    "\n",
    "plt.figure()\n",
    "plt.imshow(screen)\n",
    "plt.title('Non-Processed Image')\n",
    "plt.show()\n",
    "\n",
    "em.close()"
   ]
  },
  {
   "cell_type": "code",
   "execution_count": null,
   "metadata": {},
   "outputs": [],
   "source": []
  },
  {
   "cell_type": "markdown",
   "metadata": {},
   "source": [
    "# After Processing the Screen "
   ]
  },
  {
   "cell_type": "code",
   "execution_count": 35,
   "metadata": {},
   "outputs": [
    {
     "data": {
      "image/png": "[encoded data removed]",
      "text/plain": [
       "<Figure size 432x288 with 1 Axes>"
      ]
     },
     "metadata": {
      "needs_background": "light"
     },
     "output_type": "display_data"
    }
   ],
   "source": [
    "screen = em.get_processed_screen()\n",
    "plt.figure()\n",
    "plt.imshow(screen.squeeze(0).permute(1,2,0) , interpolation = 'none')\n",
    "plt.title('Processed Image')\n",
    "plt.show()\n",
    "\n",
    "em.close()"
   ]
  },
  {
   "cell_type": "markdown",
   "metadata": {},
   "source": [
    "# Example of Starting State"
   ]
  },
  {
   "cell_type": "code",
   "execution_count": 36,
   "metadata": {},
   "outputs": [
    {
     "data": {
      "image/png": "[encoded data removed]",
      "text/plain": [
       "<Figure size 432x288 with 1 Axes>"
      ]
     },
     "metadata": {
      "needs_background": "light"
     },
     "output_type": "display_data"
    }
   ],
   "source": [
    "screen = em.get_state()\n",
    "\n",
    "plt.figure()\n",
    "plt.imshow(screen.squeeze(0).permute(1,2,0) , interpolation = 'none')\n",
    "plt.title('Processed Image')\n",
    "plt.show()\n",
    "\n",
    "em.close()"
   ]
  },
  {
   "cell_type": "markdown",
   "metadata": {},
   "source": [
    "# Example of a Non- Starting State"
   ]
  },
  {
   "cell_type": "code",
   "execution_count": 37,
   "metadata": {},
   "outputs": [
    {
     "name": "stderr",
     "output_type": "stream",
     "text": [
      "Clipping input data to the valid range for imshow with RGB data ([0..1] for floats or [0..255] for integers).\n"
     ]
    },
    {
     "data": {
      "image/png": "[encoded data removed]",
      "text/plain": [
       "<Figure size 432x288 with 1 Axes>"
      ]
     },
     "metadata": {
      "needs_background": "light"
     },
     "output_type": "display_data"
    }
   ],
   "source": [
    "for i in range(5):\n",
    "    em.take_action(torch.tensor([1]))\n",
    "    \n",
    "screen = em.get_state()\n",
    "\n",
    "plt.figure()\n",
    "plt.imshow(screen.squeeze(0).permute(1,2,0) , interpolation = 'none')\n",
    "plt.title('Processed Image')\n",
    "plt.show()\n",
    "\n",
    "em.close()"
   ]
  },
  {
   "cell_type": "markdown",
   "metadata": {},
   "source": [
    "# Example of an End state"
   ]
  },
  {
   "cell_type": "code",
   "execution_count": 38,
   "metadata": {},
   "outputs": [
    {
     "data": {
      "image/png": "[encoded data removed]",
      "text/plain": [
       "<Figure size 432x288 with 1 Axes>"
      ]
     },
     "metadata": {
      "needs_background": "light"
     },
     "output_type": "display_data"
    }
   ],
   "source": [
    "em.done = True\n",
    "screen = em.get_state()\n",
    "\n",
    "plt.figure()\n",
    "plt.imshow(screen.squeeze(0).permute(1,2,0) , interpolation = 'none')\n",
    "plt.title('Processed Image')\n",
    "plt.show()\n",
    "\n",
    "em.close()"
   ]
  },
  {
   "cell_type": "markdown",
   "metadata": {},
   "source": [
    "# Utility functions available to track performance during Training"
   ]
  },
  {
   "cell_type": "code",
   "execution_count": 15,
   "metadata": {},
   "outputs": [],
   "source": [
    "def plot(values , moving_average_period):\n",
    "    # to solve Cart Pole Average reward must be greater than or equal to 195 over 100 episodes\n",
    "    # Thus, duration is exactly equal to the rewards , as in the game, every time step that does not lead to episode end\n",
    "    # is a +1 Reward\n",
    "    \n",
    "    plt.figure(2)\n",
    "    plt.clf() # clear current figure\n",
    "    plt.title('Training')\n",
    "    plt.xlabel('Episode')\n",
    "    plt.ylabel('Duration')\n",
    "    plt.plot(values)# values will be episode durations\n",
    "    \n",
    "    moving_avg = get_moving_average(moving_average_period, values)\n",
    "    \n",
    "    plt.plot(moving_avg) \n",
    "    plt.pause(0.001) # Duration of wait between the plots ( active plot )\n",
    "    print('Episode' , len(values) , \"\\n\" , moving_average_period , \"episode moving average\", moving_avg[-1])\n",
    "    \n",
    "    if is_ipython : display.clear_output(wait = True)\n",
    "        \n",
    "        \n",
    "def get_moving_average(period, values):\n",
    "    \n",
    "    values = torch.tensor(values, dtype = torch.float) # first transform the values to a tensor\n",
    "    # checking if the dataset is as large as the period of the moving average\n",
    "    if len(values) >= period:\n",
    "        \n",
    "        moving_avg = values.unfold(dimension=0 , size = period , step = 1).mean(dim = 1).flatten(start_dim = 0)\n",
    "        # the values.unfold() on the tensor returns a tensor that contains all the slices with a size equal\n",
    "        # to the passed period, it does this on the zeroth dimension on the original values tensor\n",
    "        # this gives us all slices of size 100 across the original value tensor\n",
    "        \n",
    "        # We then mean over all the slcies and flatten the tensor so that now moving average cointains\n",
    "        # all 100 period moving averages from the values that were passed in \n",
    "        \n",
    "        # finally concatenating this tensor to a tensor of zeros , with a size = period-1 , keeping in mind first 99 values is 0\n",
    "        # each value after is the actuall 100 period moving average\n",
    "        moving_avg = torch.cat((torch.zeros(period-1) , moving_avg))\n",
    "        \n",
    "        return moving_avg.numpy() # converting the tensor to a numpy array\n",
    "    \n",
    "    else:\n",
    "        moving_avg = torch.zeros(len(values))\n",
    "        return moving_avg.numpy()\n",
    "  "
   ]
  },
  {
   "cell_type": "code",
   "execution_count": 16,
   "metadata": {},
   "outputs": [
    {
     "data": {
      "image/png": "[encoded data removed]",
      "text/plain": [
       "<Figure size 432x288 with 1 Axes>"
      ]
     },
     "metadata": {
      "needs_background": "light"
     },
     "output_type": "display_data"
    },
    {
     "name": "stdout",
     "output_type": "stream",
     "text": [
      "Episode 300 \n",
      " 100 episode moving average 0.45867372\n"
     ]
    }
   ],
   "source": [
    "plot(np.random.rand(300) , 100)"
   ]
  },
  {
   "cell_type": "markdown",
   "metadata": {},
   "source": [
    "# Final Call of Duty "
   ]
  },
  {
   "cell_type": "markdown",
   "metadata": {},
   "source": [
    "### Let's build something Awesome !"
   ]
  },
  {
   "cell_type": "markdown",
   "metadata": {},
   "source": [
    "# Tensor Processing"
   ]
  },
  {
   "cell_type": "code",
   "execution_count": 17,
   "metadata": {},
   "outputs": [
    {
     "name": "stdout",
     "output_type": "stream",
     "text": [
      "[Experience(state=1, action=1, reward=1, next_state=1), Experience(state=2, action=2, reward=2, next_state=2), Experience(state=3, action=3, reward=3, next_state=3), Experience(state=4, action=4, reward=4, next_state=4)]\n",
      "Experience(state=(1, 2, 3, 4), action=(1, 2, 3, 4), reward=(1, 2, 3, 4), next_state=(1, 2, 3, 4))\n"
     ]
    }
   ],
   "source": [
    "def extract_tensors(experiences):\n",
    "    \n",
    "    batch = Experience(*zip(*experiences))\n",
    "    \n",
    "    t1 = torch.cat(batch.state) # using torch.cat we extract all the states from this batch into their own tensor\n",
    "    t2 = torch.cat(batch.action)\n",
    "    t3 = torch.cat(batch.reward)\n",
    "    t4 = torch.cat(batch.next_state)\n",
    "    \n",
    "    return (t1,t2,t3,t4)\n",
    "\n",
    "\n",
    "# Example Usage\n",
    "\n",
    "e1 = Experience(1,1,1,1)\n",
    "e2 = Experience(2,2,2,2)\n",
    "e3 = Experience(3,3,3,3)\n",
    "e4 = Experience(4,4,4,4)\n",
    "\n",
    "experiences = [e1,e2,e3,e4]\n",
    "print(experiences)\n",
    "\n",
    "batch = Experience(*zip(*experiences))\n",
    "print(batch)\n"
   ]
  },
  {
   "cell_type": "markdown",
   "metadata": {},
   "source": [
    "# Q Value Evaluation Class"
   ]
  },
  {
   "cell_type": "code",
   "execution_count": 18,
   "metadata": {},
   "outputs": [],
   "source": [
    "class QValues():\n",
    "    \n",
    "    device = torch.device(\"cuda\" if torch.cuda.is_available() else \"cpu\")\n",
    "    \n",
    "    @staticmethod\n",
    "    def get_current(policy_net , states , actions):\n",
    "        # this function just returns the predicted QValues \n",
    "        # from the policy net for the specific state action pairs that were passed in\n",
    "        \n",
    "        return policy_net(states).gather(dim = 1 , index = actions.unsqueeze(-1))\n",
    "    \n",
    "    @staticmethod\n",
    "    def get_next(target_network , next_states):\n",
    "        \n",
    "        # this function does as follows-\n",
    "        # 1. Accepts a target net and next_states\n",
    "        # 2. Since we want maximum possible Q -value among all possible actions from a state\n",
    "        # 3. So we first look in our next_states tensor and find the locations of all the final states\n",
    "        # 4. If an episode is ended by a given action , then,\n",
    "        #    we call the next state that occured after the action as final state\n",
    "        # 5. The final state is an all black screen,thus all values within tensor representing final state will be 0\n",
    "        #   We want to know where the final states are if at all they exist,because,\n",
    "        #   we dont want to pass these final states to our target net to get a predicted q values,because,\n",
    "        #   We know the q values are zero because the agent does not receive any reward in the final terminal states\n",
    "        #   So we find the locations of these final states, to not pass them to targetnet when we pass the non final states\n",
    "\n",
    "        \n",
    "        final_state_locations = next_states.flatten(start_dim = 1).max(dim = 1)[0].eq(0).type(torch.bool)\n",
    "        # to find the location of these potential final states, we first flatten the next states tensor along dimension 1\n",
    "        # and check each individual next states to find it's max value, if equal to zero ,\n",
    "        # then we know this state is a final state \n",
    "        # and we represent that as true within final states tensor and the others are represented as a false\n",
    "        \n",
    "        non_final_state_locations = (final_state_locations==False) # Exact opposite of final_state_locations\n",
    "        # true for non final and false for final\n",
    "\n",
    "        non_final_states = next_states[non_final_state_locations]\n",
    "        # Now we know non final statesvalue , so we get them by indexing in the next states tensor\n",
    "        # and get all correspondong non final states\n",
    "        \n",
    "        batch_size = next_states.shape[0]\n",
    "        # Next we find the batch size by checking to see how many next states are in the next states tensor\n",
    "        \n",
    "        values = torch.zeros(batch_size).to(QValues.device)\n",
    "        # so we create new tensors of zeros of length the same size as bacth size next_states and send it to device\n",
    "        \n",
    "        values[non_final_state_locations] = target_network(non_final_states).max(dim = 1)[0].detach()\n",
    "        # we finally index into these tensor of zeros with the non final state locations and set the corresponding\n",
    "        # values of all these locations equal to the max predicted q values from the traget next across each action\n",
    "        # Therefore for final states we have 0 and for the non final states maximum predicted q values across all action tensor\n",
    "        # this result is returned\n",
    "        return values\n",
    "    \n",
    "        "
   ]
  },
  {
   "cell_type": "code",
   "execution_count": null,
   "metadata": {},
   "outputs": [],
   "source": []
  },
  {
   "cell_type": "code",
   "execution_count": 21,
   "metadata": {},
   "outputs": [
    {
     "data": {
      "image/png": "[encoded data removed]",
      "text/plain": [
       "<Figure size 432x288 with 1 Axes>"
      ]
     },
     "metadata": {
      "needs_background": "light"
     },
     "output_type": "display_data"
    },
    {
     "name": "stdout",
     "output_type": "stream",
     "text": [
      "Episode 1000 \n",
      " 100 episode moving average 138.12\n"
     ]
    }
   ],
   "source": [
    "# Main Program \n",
    "\n",
    "# Setting all Hyper parameters\n",
    "\n",
    "BATCH_SIZE = 256\n",
    "DISCOUNT_RATE_GAMMA = 0.999\n",
    "EPS_START = 1\n",
    "EPS_END = 0.01\n",
    "EPS_DECAY = 0.001\n",
    "TARGET_UPDATE_RATE = 10\n",
    "MEMORY_SIZE = 100000\n",
    "\n",
    "LEARNING_RATE_ALPHA = 0.001\n",
    "EPISODES = 1000\n",
    "\n",
    "\n",
    "\n",
    "# Creating Object Instances of the classes created above\n",
    "\n",
    "device = torch.device(\"cuda\" if torch.cuda.is_available() else \"cpu\")\n",
    "env = CartPoleEnvManager(device)\n",
    "strategy = EpsilonGreedyStrategy(EPS_START , EPS_END , EPS_DECAY)\n",
    "agent = Agent(strategy , env.num_actions_available() ,device)\n",
    "memory = ReplayMemory(MEMORY_SIZE)\n",
    "\n",
    "policy_network = DQN(env.get_screen_height() , env.get_screen_width()).to(device)\n",
    "target_network = DQN(env.get_screen_height() , env.get_screen_width()).to(device)\n",
    "\n",
    "target_network.load_state_dict(policy_network.state_dict())\n",
    "target_network.eval() # putting target_net in eval mode ,this tells PyTorch that this network is not in training mode\n",
    "# Therefore it will only be used for inference\n",
    "\n",
    "optimizer = optim.Adam(params = policy_network.parameters() , lr = LEARNING_RATE_ALPHA)\n",
    "\n",
    "\n",
    "\n",
    "episode_durations = []\n",
    "\n",
    "for episode in range(EPISODES):\n",
    "    \n",
    "    env.reset()\n",
    "    state = env.get_state()\n",
    "    \n",
    "    for timestep in count():\n",
    "        \n",
    "        action = agent.select_actions(state , policy_network)\n",
    "        reward = env.take_action(action)\n",
    "        next_state = env.get_state()\n",
    "        memory.push(Experience(state,action,reward,next_state))\n",
    "        state = next_state\n",
    "        \n",
    "        \n",
    "        if memory.can_provide_sample(BATCH_SIZE):\n",
    "            experiences = memory.sample(BATCH_SIZE)\n",
    "            states, actions , rewards , next_states = extract_tensors(experiences)\n",
    "            \n",
    "            current_q_values = QValues.get_current(policy_network , states , actions)\n",
    "            # this returns the qvalues for the state action pair passed based on the policy network\n",
    "            \n",
    "            next_q_values = QValues.get_next(target_network, next_states)\n",
    "            # this gives the max Q value for the next states using the best corresponding actions\n",
    "            # using the target network\n",
    "            \n",
    "            target_q_values = (next_q_values*DISCOUNT_RATE_GAMMA) + rewards\n",
    "            \n",
    "            \n",
    "            loss = F.mse_loss(current_q_values , target_q_values.unsqueeze(1))\n",
    "            # We now zero out the grdients using optimizer class's zero_grad()\n",
    "            \n",
    "            optimizer.zero_grad()\n",
    "            # This function sets the gradient of all the weights and biases in the policy net to 0\n",
    "            # since pytorch accumulates the gradients before backprop , we need to do this before backprop\n",
    "            \n",
    "            loss.backward() # computes gradients of the loss wrt all the weights and biases in the PN\n",
    "            optimizer.step() # Updates the weights and biases computed using loss gradient during loss.backward\n",
    "            \n",
    "            \n",
    "        if env.done:\n",
    "            \n",
    "            episode_durations.append(timestep)\n",
    "            plot(episode_durations , 100)\n",
    "            break\n",
    "            \n",
    "        \n",
    "    if episode%TARGET_UPDATE_RATE == 0:\n",
    "            \n",
    "        target_network.load_state_dict(policy_network.state_dict())\n",
    "            \n",
    "\n",
    "env.close()\n",
    "            "
   ]
  },
  {
   "cell_type": "code",
   "execution_count": null,
   "metadata": {},
   "outputs": [],
   "source": []
  }
 ],
 "metadata": {
  "kernelspec": {
   "display_name": "Python 3",
   "language": "python",
   "name": "python3"
  },
  "language_info": {
   "codemirror_mode": {
    "name": "ipython",
    "version": 3
   },
   "file_extension": ".py",
   "mimetype": "text/x-python",
   "name": "python",
   "nbconvert_exporter": "python",
   "pygments_lexer": "ipython3",
   "version": "3.7.6"
  }
 },
 "nbformat": 4,
 "nbformat_minor": 4
}
